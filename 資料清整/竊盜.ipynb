{
  "nbformat": 4,
  "nbformat_minor": 0,
  "metadata": {
    "colab": {
      "provenance": []
    },
    "kernelspec": {
      "name": "python3",
      "display_name": "Python 3"
    },
    "language_info": {
      "name": "python"
    }
  },
  "cells": [
    {
      "cell_type": "code",
      "execution_count": null,
      "metadata": {
        "id": "PaIMwgRL9x2q"
      },
      "outputs": [],
      "source": [
        "import geopandas as gpd\n",
        "import geocoder\n",
        "import json\n",
        "import pandas as pd\n",
        "from shapely.geometry import LineString, Point, Polygon\n"
      ]
    },
    {
      "cell_type": "code",
      "source": [
        "import pandas as pd\n",
        "import requests\n",
        "from io import StringIO\n",
        "\n",
        "def get_api(resource_id, limit=1000, retries=3):\n",
        "    offset = 0\n",
        "    api_url = f\"https://data.tycg.gov.tw/api/v1/rest/datastore/{resource_id}\"\n",
        "\n",
        "\n",
        "    all_data = pd.DataFrame()\n",
        "\n",
        "    while True:\n",
        "        try:\n",
        "            params = {'limit': limit, 'offset': offset, 'format': 'csv'}\n",
        "            response = requests.get(api_url, params=params)\n",
        "            response.raise_for_status()  # 如果狀態碼不是 2xx，將拋出一個異常\n",
        "            current_data = pd.read_csv(StringIO(response.text))\n",
        "            # all_data = all_data.append(current_data, ignore_index=True)\n",
        "            all_data = pd.concat([all_data, current_data], ignore_index=True)\n",
        "\n",
        "\n",
        "            if len(current_data) < limit:\n",
        "                break\n",
        "\n",
        "            # 更新偏移量\n",
        "            offset += limit\n",
        "            print(\"OK\")\n",
        "        except requests.exceptions.RequestException as err:\n",
        "            print(\"OOps: Something went wrong\", err)\n",
        "\n",
        "    return all_data\n",
        "\n",
        "# get_api 函數獲取 API 數據\n",
        "RID = 'f2219d56-1ca3-47c6-8dd8-ed9c352d0003'\n",
        "api_data = get_api(RID)\n",
        "\n",
        "if not api_data.empty:\n",
        "    # DataFrame 保存為本地 CSV 文件\n",
        "    OUTPUT_FILENAME = 'steal.csv'\n",
        "    api_data.to_csv(OUTPUT_FILENAME, index=False)\n",
        "\n",
        "    print(f\"Data saved to {OUTPUT_FILENAME}\")\n",
        "else:\n",
        "    print(\"Failed to retrieve API data.\")\n"
      ],
      "metadata": {
        "colab": {
          "base_uri": "https://localhost:8080/"
        },
        "id": "BrjMuA3T91Fa",
        "outputId": "41790ef3-f073-4e61-d482-b133e9d20a2a"
      },
      "execution_count": null,
      "outputs": [
        {
          "output_type": "stream",
          "name": "stdout",
          "text": [
            "OK\n",
            "OK\n",
            "OK\n",
            "Data saved to steal.csv\n"
          ]
        }
      ]
    },
    {
      "cell_type": "code",
      "source": [
        "\n",
        "print(\"原始資料:\")\n",
        "print(api_data)\n",
        "\n",
        "new_order = ['_id','year', 'month', 'date', 'time', 'breau', 'station', 'lon', 'lat', 'type']\n",
        "api_data = api_data[new_order]\n",
        "\n",
        "df_loc = api_data[api_data['breau'] == '中壢分局']\n",
        "print(df_loc)\n",
        "\n"
      ],
      "metadata": {
        "colab": {
          "base_uri": "https://localhost:8080/"
        },
        "id": "ALC5NJaX_zi1",
        "outputId": "bc4ade1e-645b-47db-c943-779f96f26d13"
      },
      "execution_count": null,
      "outputs": [
        {
          "output_type": "stream",
          "name": "stdout",
          "text": [
            "原始資料:\n",
            "      date breau  month  year station         lon   _id     time  type  \\\n",
            "0       24  龍潭分局     12   111     中興所  121.235578     1  1111224  汽車竊盜   \n",
            "1       12  平鎮分局     12   111     龍岡所  121.248011     2  1111212  汽車竊盜   \n",
            "2       30  龍潭分局     11   111     龍潭所  121.218214     3  1111130  汽車竊盜   \n",
            "3       25  楊梅分局     11   111     草湳所  121.164441     4  1111125  汽車竊盜   \n",
            "4       14  平鎮分局     11   111     平鎮所  121.218423     5  1111114  汽車竊盜   \n",
            "...    ...   ...    ...   ...     ...         ...   ...      ...   ...   \n",
            "3304     3  中壢分局     11   101     龍興所  121.243400  3305  1011103  汽車竊盜   \n",
            "3305    17  平鎮分局      6   101     北勢所  121.212800  3306  1010617  汽車竊盜   \n",
            "3306    29  平鎮分局      4   100     平鎮所  121.213090  3307  1000429  汽車竊盜   \n",
            "3307     0  龜山分局      1   991     龜山所  121.346900  3308   991010  汽車竊盜   \n",
            "3308     4  中壢分局     90   990     龍興所  121.257671  3309   990904  汽車竊盜   \n",
            "\n",
            "            lat  \n",
            "0     24.874379  \n",
            "1     24.917239  \n",
            "2     24.875023  \n",
            "3     24.899386  \n",
            "4     24.919823  \n",
            "...         ...  \n",
            "3304  24.940130  \n",
            "3305  24.939310  \n",
            "3306  24.921006  \n",
            "3307  24.990430  \n",
            "3308  24.931206  \n",
            "\n",
            "[3309 rows x 10 columns]\n",
            "       _id  year  month  date     time breau station         lon        lat  \\\n",
            "23      24   110     12    14  1101214  中壢分局     龍興所  121.258911  24.934926   \n",
            "27      28   110     12     1  1101201  中壢分局     文化所  121.249124  24.957730   \n",
            "30      31   110     11     9  1101109  中壢分局     普仁所  121.236280  24.963268   \n",
            "31      32   110     11     7  1101107  中壢分局     普仁所  121.231388  24.956273   \n",
            "34      35   110     10    31  1101031  中壢分局     興國所  121.218099  24.975003   \n",
            "...    ...   ...    ...   ...      ...   ...     ...         ...        ...   \n",
            "3297  3298   104      1     1  1040101  中壢分局     仁愛所  121.231200  24.954940   \n",
            "3298  3299   104      1     1  1040101  中壢分局     龍興所  121.237100  24.933020   \n",
            "3303  3304   102      7    31  1020731  中壢分局     仁愛所  121.255900  24.946490   \n",
            "3304  3305   101     11     3  1011103  中壢分局     龍興所  121.243400  24.940130   \n",
            "3308  3309   990     90     4   990904  中壢分局     龍興所  121.257671  24.931206   \n",
            "\n",
            "      type  \n",
            "23    汽車竊盜  \n",
            "27    汽車竊盜  \n",
            "30    汽車竊盜  \n",
            "31    汽車竊盜  \n",
            "34    汽車竊盜  \n",
            "...    ...  \n",
            "3297  汽車竊盜  \n",
            "3298  汽車竊盜  \n",
            "3303  汽車竊盜  \n",
            "3304  汽車竊盜  \n",
            "3308  汽車竊盜  \n",
            "\n",
            "[682 rows x 10 columns]\n"
          ]
        }
      ]
    },
    {
      "cell_type": "code",
      "source": [
        "new_order = ['_id','year', 'month', 'date', 'time', 'breau', 'station', 'lon', 'lat', 'type']\n",
        "newcolumns = {\n",
        "    '_id': '序號',\n",
        "    'year': '年',\n",
        "    'month': '月',\n",
        "    'date': '日',\n",
        "    'time': '日期',\n",
        "    'breau': '分局',\n",
        "    'station': '所',\n",
        "    'lon': '經度',\n",
        "    'lat': '緯度',\n",
        "    'type': '種類',\n",
        "}\n",
        "\n",
        "df_loc.drop('_id', axis=1, inplace=True)\n",
        "\n",
        "\n",
        "df_loc.rename(columns=newcolumns, inplace=True)\n",
        "\n",
        "\n",
        "# 將日期欄位轉換為西元年\n",
        "df_loc['日期'] = (df_loc['年'] + 1911).astype(str) + df_loc['月'].astype(str).str.zfill(2) + df_loc['日'].astype(str).str.zfill(2)\n",
        "\n",
        "# 將日期欄位等於 \"29019004\" 的整筆資料從 df_loc 中刪除 (怪怪的值)\n",
        "df_loc = df_loc[df_loc['日期'] != '29019004']\n",
        "\n",
        "\n",
        "print(df_loc)\n",
        "\n",
        "\n",
        "\n",
        "\n",
        "\n",
        "\n"
      ],
      "metadata": {
        "colab": {
          "base_uri": "https://localhost:8080/"
        },
        "id": "LYs-WhmNLxDK",
        "outputId": "749d1c09-8080-4810-f959-a0fb8728ddf6"
      },
      "execution_count": null,
      "outputs": [
        {
          "output_type": "stream",
          "name": "stdout",
          "text": [
            "        年   月   日        日期    分局    所          經度         緯度    種類\n",
            "23    110  12  14  20211214  中壢分局  龍興所  121.258911  24.934926  汽車竊盜\n",
            "27    110  12   1  20211201  中壢分局  文化所  121.249124  24.957730  汽車竊盜\n",
            "30    110  11   9  20211109  中壢分局  普仁所  121.236280  24.963268  汽車竊盜\n",
            "31    110  11   7  20211107  中壢分局  普仁所  121.231388  24.956273  汽車竊盜\n",
            "34    110  10  31  20211031  中壢分局  興國所  121.218099  24.975003  汽車竊盜\n",
            "...   ...  ..  ..       ...   ...  ...         ...        ...   ...\n",
            "3294  104   1   3  20150103  中壢分局  龍興所  121.243300  24.928910  汽車竊盜\n",
            "3297  104   1   1  20150101  中壢分局  仁愛所  121.231200  24.954940  汽車竊盜\n",
            "3298  104   1   1  20150101  中壢分局  龍興所  121.237100  24.933020  汽車竊盜\n",
            "3303  102   7  31  20130731  中壢分局  仁愛所  121.255900  24.946490  汽車竊盜\n",
            "3304  101  11   3  20121103  中壢分局  龍興所  121.243400  24.940130  汽車竊盜\n",
            "\n",
            "[681 rows x 9 columns]\n"
          ]
        },
        {
          "output_type": "stream",
          "name": "stderr",
          "text": [
            "<ipython-input-4-752128231ae2>:15: SettingWithCopyWarning: \n",
            "A value is trying to be set on a copy of a slice from a DataFrame\n",
            "\n",
            "See the caveats in the documentation: https://pandas.pydata.org/pandas-docs/stable/user_guide/indexing.html#returning-a-view-versus-a-copy\n",
            "  df_loc.drop('_id', axis=1, inplace=True)\n",
            "<ipython-input-4-752128231ae2>:18: SettingWithCopyWarning: \n",
            "A value is trying to be set on a copy of a slice from a DataFrame\n",
            "\n",
            "See the caveats in the documentation: https://pandas.pydata.org/pandas-docs/stable/user_guide/indexing.html#returning-a-view-versus-a-copy\n",
            "  df_loc.rename(columns=newcolumns, inplace=True)\n",
            "<ipython-input-4-752128231ae2>:22: SettingWithCopyWarning: \n",
            "A value is trying to be set on a copy of a slice from a DataFrame.\n",
            "Try using .loc[row_indexer,col_indexer] = value instead\n",
            "\n",
            "See the caveats in the documentation: https://pandas.pydata.org/pandas-docs/stable/user_guide/indexing.html#returning-a-view-versus-a-copy\n",
            "  df_loc['日期'] = (df_loc['年'] + 1911).astype(str) + df_loc['月'].astype(str).str.zfill(2) + df_loc['日'].astype(str).str.zfill(2)\n"
          ]
        }
      ]
    },
    {
      "cell_type": "code",
      "source": [
        "# df_loc.to_csv('steal_ETL.csv', index=False, encoding='UTF-8')\n",
        "df_loc.to_csv('steal_ETL.csv', index=False, encoding='UTF-8')"
      ],
      "metadata": {
        "id": "XG86X-j77Mzx"
      },
      "execution_count": null,
      "outputs": []
    }
  ]
}